{
 "cells": [
  {
   "cell_type": "markdown",
   "metadata": {},
   "source": [
    "# Sequence to Sequence model to extract summary,objective from resume (input: entire resume)\n"
   ]
  },
  {
   "cell_type": "markdown",
   "metadata": {},
   "source": [
    "## 207 resumes\n"
   ]
  },
  {
   "cell_type": "code",
   "execution_count": 18,
   "metadata": {},
   "outputs": [],
   "source": [
    "from __future__ import print_function\n",
    "import csv,os\n",
    "import collections\n",
    "from keras.models import Model,load_model\n",
    "from keras.layers import Input,LSTM,Dense\n",
    "from keras.callbacks import ModelCheckpoint\n",
    "import numpy as np\n",
    "\n",
    "batch_size=5\n",
    "epochs=50\n",
    "latent_dim=128\n",
    "data_path=\"/home/santhosh/resumes_folder/custom_annotator/annotator-server/static/files/Data_Tracter_Resumes_in_TXT/csv\""
   ]
  },
  {
   "cell_type": "markdown",
   "metadata": {},
   "source": [
    "## vectorizing the data"
   ]
  },
  {
   "cell_type": "code",
   "execution_count": 19,
   "metadata": {},
   "outputs": [],
   "source": [
    "input_resumes=[]\n",
    "output_summary=[]\n",
    "input_tokens=collections.Counter()\n",
    "output_tokens=set()\n",
    "files=os.listdir(data_path)\n",
    "count=0\n",
    "for file in files[:20]:\n",
    "    with open(data_path+'/'+file,'r') as csv_file:\n",
    "        reader=csv.reader(csv_file)\n",
    "        input_text=\" \"\n",
    "        output_text=\" \"\n",
    "        count=0\n",
    "        for Input_text,output in reader:\n",
    "            Input_text=Input_text.strip().lower()\n",
    "            input_text+=Input_text+' \\n'\n",
    "            if(output=='1'):\n",
    "                output_text+=Input_text+' \\n'\n",
    "            \n",
    "            if count==15:\n",
    "                break\n",
    "            count+=1\n",
    "            \n",
    "    \"\"\"\n",
    "        print(\"*\"*50)\n",
    "        print(\" \"*50)\n",
    "        #print(input_text)\n",
    "        print(\"-\"*50)\n",
    "        print(output_text)\n",
    "        print(\" \"*50)\n",
    "        print(\"*\"*50)\n",
    "    if count==2:\n",
    "        break\n",
    "    count+=1\n",
    "    \"\"\"\n",
    "\n",
    "    # We use \"<SOL>\" as the \"start sequence\" character\n",
    "    # for the targets, and \"<EOL>\" as \"end sequence\" character.\n",
    "    output_text='<SOL> '+output_text+' <EOL>'\n",
    "    input_resumes.append(input_text)\n",
    "    output_summary.append(output_text)\n",
    "    for word in input_text.split():\n",
    "        if word not in input_tokens:\n",
    "            input_tokens[word]+=1\n",
    "    for word in output_text.split():\n",
    "        if word not in output_tokens:\n",
    "            output_tokens.add(word)\n"
   ]
  },
  {
   "cell_type": "code",
   "execution_count": 20,
   "metadata": {},
   "outputs": [
    {
     "name": "stdout",
     "output_type": "stream",
     "text": [
      "1000\n",
      "Number of samples: 20\n",
      "number of unique input token: 1000\n",
      "number of unique output token: 725\n",
      "Max Sequence length for inputs: 144\n",
      "Max Sequence length for outputs: 132\n"
     ]
    }
   ],
   "source": [
    "print(len(input_tokens))\n",
    "num_encoder_tokens=min(len(input_tokens),3000)\n",
    "input_tokens=[word for word,count in input_tokens.most_common(num_encoder_tokens-1)]\n",
    "input_tokens=sorted(list(input_tokens))\n",
    "output_tokens=sorted(list(output_tokens))\n",
    "num_decoder_tokens=len(output_tokens)\n",
    "max_encoder_seq_len=max([len(text.split()) for text in input_resumes])\n",
    "max_decoder_seq_len=max([len(text.split()) for text in output_summary])\n",
    "\n",
    "print('Number of samples:',len(input_resumes))\n",
    "print('number of unique input token:',num_encoder_tokens)\n",
    "print('number of unique output token:',num_decoder_tokens)\n",
    "print('Max Sequence length for inputs:',max_encoder_seq_len)\n",
    "print('Max Sequence length for outputs:',max_decoder_seq_len)\n"
   ]
  },
  {
   "cell_type": "markdown",
   "metadata": {},
   "source": [
    "## defining token2index"
   ]
  },
  {
   "cell_type": "code",
   "execution_count": 21,
   "metadata": {},
   "outputs": [],
   "source": [
    "input_token2index=dict([(word,i) for i,word in enumerate(input_tokens)])\n",
    "output_token2index=dict([(word,i) for i,word in enumerate(output_tokens)])\n",
    "input_token2index['UNK']=num_encoder_tokens-1"
   ]
  },
  {
   "cell_type": "markdown",
   "metadata": {},
   "source": [
    "## defing encoder_input,decoder_input and decoder_output"
   ]
  },
  {
   "cell_type": "code",
   "execution_count": 22,
   "metadata": {},
   "outputs": [],
   "source": [
    "encoder_input_data=np.zeros((len(input_resumes),max_encoder_seq_len,num_encoder_tokens),dtype='float32')\n",
    "decoder_input_data=np.zeros((len(input_resumes),max_decoder_seq_len,num_decoder_tokens),dtype='float32')\n",
    "decoder_target_data=np.zeros((len(input_resumes),max_decoder_seq_len,num_decoder_tokens),dtype='float32')\n"
   ]
  },
  {
   "cell_type": "markdown",
   "metadata": {},
   "source": [
    "## creating training dataset"
   ]
  },
  {
   "cell_type": "code",
   "execution_count": 23,
   "metadata": {},
   "outputs": [],
   "source": [
    "for i,(input_text,target_text) in enumerate(zip(input_resumes,output_summary)):\n",
    "    for t,word in enumerate(input_text.split()[:max_encoder_seq_len]):\n",
    "        if word not in input_token2index:\n",
    "            word=\"UNK\"\n",
    "        encoder_input_data[i,t,input_token2index[word]]=1\n",
    "        \n",
    "    for t,word in enumerate(target_text.split()):\n",
    "        decoder_input_data[i,t,output_token2index[word]]=1\n",
    "        # decoder_target_data is ahead of decoder_input_data by one timestep\n",
    "        if t>0:\n",
    "            # decoder_target_data will be ahead by one timestep\n",
    "            # and will not include the start character.\n",
    "            decoder_target_data[i,t-1,output_token2index[word]]=1\n"
   ]
  },
  {
   "cell_type": "markdown",
   "metadata": {},
   "source": [
    "## Define an input sequence and process it."
   ]
  },
  {
   "cell_type": "code",
   "execution_count": 24,
   "metadata": {},
   "outputs": [],
   "source": [
    "encoder_inputs = Input(shape=(None, num_encoder_tokens))\n",
    "encoder = LSTM(latent_dim, return_state=True)\n",
    "encoder_outputs, state_h, state_c = encoder(encoder_inputs)\n",
    "# We discard `encoder_outputs` and only keep the states.\n",
    "encoder_states = [state_h, state_c]"
   ]
  },
  {
   "cell_type": "markdown",
   "metadata": {},
   "source": [
    "\n",
    "## Set up the decoder, using encoder_states as initial state."
   ]
  },
  {
   "cell_type": "code",
   "execution_count": 25,
   "metadata": {},
   "outputs": [],
   "source": [
    "decoder_inputs = Input(shape=(None, num_decoder_tokens))\n",
    "# We set up our decoder to return full output sequences,\n",
    "# and to return internal states as well. We don't use the\n",
    "# return states in the training model, but we will use them in inference.\n",
    "decoder_lstm = LSTM(latent_dim, return_sequences=True, return_state=True)\n",
    "\n",
    "decoder_outputs, _, _ = decoder_lstm(decoder_inputs,\n",
    "                                     initial_state=encoder_states)\n",
    "decoder_dense = Dense(num_decoder_tokens, activation='softmax')\n",
    "decoder_outputs = decoder_dense(decoder_outputs)"
   ]
  },
  {
   "cell_type": "markdown",
   "metadata": {},
   "source": [
    "## Define the model that will turn\n",
    "## `encoder_input_data` & `decoder_input_data` into `decoder_target_data`"
   ]
  },
  {
   "cell_type": "code",
   "execution_count": 26,
   "metadata": {},
   "outputs": [
    {
     "name": "stdout",
     "output_type": "stream",
     "text": [
      "__________________________________________________________________________________________________\n",
      "Layer (type)                    Output Shape         Param #     Connected to                     \n",
      "==================================================================================================\n",
      "input_5 (InputLayer)            (None, None, 1000)   0                                            \n",
      "__________________________________________________________________________________________________\n",
      "input_6 (InputLayer)            (None, None, 725)    0                                            \n",
      "__________________________________________________________________________________________________\n",
      "lstm_3 (LSTM)                   [(None, 128), (None, 578048      input_5[0][0]                    \n",
      "__________________________________________________________________________________________________\n",
      "lstm_4 (LSTM)                   [(None, None, 128),  437248      input_6[0][0]                    \n",
      "                                                                 lstm_3[0][1]                     \n",
      "                                                                 lstm_3[0][2]                     \n",
      "__________________________________________________________________________________________________\n",
      "dense_2 (Dense)                 (None, None, 725)    93525       lstm_4[0][0]                     \n",
      "==================================================================================================\n",
      "Total params: 1,108,821\n",
      "Trainable params: 1,108,821\n",
      "Non-trainable params: 0\n",
      "__________________________________________________________________________________________________\n"
     ]
    }
   ],
   "source": [
    "model = Model([encoder_inputs, decoder_inputs], decoder_outputs)\n",
    "model.compile(optimizer='rmsprop', loss='categorical_crossentropy',metrics=[\"accuracy\"])\n",
    "model.summary()"
   ]
  },
  {
   "cell_type": "markdown",
   "metadata": {},
   "source": [
    "## function to test model"
   ]
  },
  {
   "cell_type": "code",
   "execution_count": 27,
   "metadata": {},
   "outputs": [],
   "source": [
    "# Next: inference mode (sampling).\n",
    "# Here's the drill:\n",
    "# 1) encode input and retrieve initial decoder state\n",
    "# 2) run one step of decoder with this initial state\n",
    "# and a \"start of sequence\" token as target.\n",
    "# Output will be the next target token\n",
    "# 3) Repeat with the current target token and current states\n",
    "\n",
    "# Define sampling models\n",
    "encoder_model = Model(encoder_inputs, encoder_states)\n",
    "\n",
    "decoder_state_input_h = Input(shape=(latent_dim,))\n",
    "decoder_state_input_c = Input(shape=(latent_dim,))\n",
    "decoder_states_inputs = [decoder_state_input_h, decoder_state_input_c]\n",
    "decoder_outputs, state_h, state_c = decoder_lstm(\n",
    "    decoder_inputs, initial_state=decoder_states_inputs)\n",
    "decoder_states = [state_h, state_c]\n",
    "decoder_outputs = decoder_dense(decoder_outputs)\n",
    "decoder_model = Model(\n",
    "    [decoder_inputs] + decoder_states_inputs,\n",
    "    [decoder_outputs] + decoder_states)\n",
    "\n",
    "# Reverse-lookup token index to decode sequences back to\n",
    "# something readable.\n",
    "reverse_input_word_index = dict(\n",
    "    (i, word) for word, i in input_token2index.items())\n",
    "reverse_target_word_index = dict(\n",
    "    (i, word) for word, i in output_token2index.items())\n",
    "\n",
    "\n",
    "def decode_sequence(input_seq):\n",
    "    # Encode the input as state vectors.\n",
    "    states_value = encoder_model.predict(input_seq)\n",
    "\n",
    "    # Generate empty target sequence of length 1.\n",
    "    target_seq = np.zeros((1, 1, num_decoder_tokens))\n",
    "    # Populate the first character of target sequence with the start character.\n",
    "    target_seq[0, 0, output_token2index['<SOL>']] = 1.\n",
    "\n",
    "    # Sampling loop for a batch of sequences\n",
    "    # (to simplify, here we assume a batch of size 1).\n",
    "    stop_condition = False\n",
    "    decoded_sentence = ''\n",
    "    while not stop_condition:\n",
    "        output_tokens, h, c = decoder_model.predict(\n",
    "            [target_seq] + states_value)\n",
    "\n",
    "        # Sample a token\n",
    "        sampled_token_index = np.argmax(output_tokens[0, -1, :])\n",
    "        sampled_word = reverse_target_word_index[sampled_token_index]\n",
    "        decoded_sentence += ' '+sampled_word\n",
    "\n",
    "        # Exit condition: either hit max length\n",
    "        # or find stop character.\n",
    "        if (sampled_word == '<EOL>' or\n",
    "           len(decoded_sentence.split()) > max_decoder_seq_len):\n",
    "            stop_condition = True\n",
    "\n",
    "        # Update the target sequence (of length 1).\n",
    "        target_seq = np.zeros((1, 1, num_decoder_tokens))\n",
    "        target_seq[0, 0, sampled_token_index] = 1.\n",
    "\n",
    "        # Update states\n",
    "        states_value = [h, c]\n",
    "    if('<EOL>' in decoded_sentence):\n",
    "        decoded_sentence=\" \".join(decoded_sentence.split()[:-1])\n",
    "    return decoded_sentence\n"
   ]
  },
  {
   "cell_type": "markdown",
   "metadata": {},
   "source": [
    "## Run training"
   ]
  },
  {
   "cell_type": "code",
   "execution_count": null,
   "metadata": {},
   "outputs": [
    {
     "name": "stdout",
     "output_type": "stream",
     "text": [
      "file_data, iteration:23\n",
      "Iteration: 24\n",
      "Train on 16 samples, validate on 4 samples\n",
      "Epoch 1/50\n",
      "16/16 [==============================] - 8s 526ms/step - loss: 4.3153 - acc: 0.0303 - val_loss: 3.7508 - val_acc: 0.0284\n"
     ]
    },
    {
     "name": "stderr",
     "output_type": "stream",
     "text": [
      "/home/santhosh/anaconda3/envs/pydl/lib/python3.5/site-packages/keras/engine/network.py:888: UserWarning: Layer lstm_4 was passed non-serializable keyword arguments: {'initial_state': [<tf.Tensor 'lstm_3/while/Exit_2:0' shape=(?, 128) dtype=float32>, <tf.Tensor 'lstm_3/while/Exit_3:0' shape=(?, 128) dtype=float32>]}. They will not be included in the serialized model (and thus will be missing at deserialization time).\n",
      "  '. They will not be included '\n"
     ]
    },
    {
     "name": "stdout",
     "output_type": "stream",
     "text": [
      "Epoch 2/50\n",
      "16/16 [==============================] - 5s 339ms/step - loss: 4.1113 - acc: 0.0388 - val_loss: 3.6498 - val_acc: 0.0265\n",
      "Epoch 3/50\n",
      "16/16 [==============================] - 6s 350ms/step - loss: 3.8508 - acc: 0.0379 - val_loss: 3.7322 - val_acc: 0.0265\n",
      "Epoch 4/50\n",
      "16/16 [==============================] - 6s 355ms/step - loss: 3.8020 - acc: 0.0388 - val_loss: 3.7306 - val_acc: 0.0284\n",
      "Epoch 5/50\n",
      "16/16 [==============================] - 6s 374ms/step - loss: 3.7715 - acc: 0.0407 - val_loss: 3.7777 - val_acc: 0.0284\n",
      "Epoch 6/50\n",
      "16/16 [==============================] - 6s 348ms/step - loss: 3.7558 - acc: 0.0431 - val_loss: 3.7703 - val_acc: 0.0303\n",
      "Epoch 7/50\n",
      "16/16 [==============================] - 6s 345ms/step - loss: 3.7364 - acc: 0.0431 - val_loss: 3.7959 - val_acc: 0.0360\n",
      "Epoch 8/50\n",
      "16/16 [==============================] - 6s 370ms/step - loss: 3.7194 - acc: 0.0417 - val_loss: 3.9039 - val_acc: 0.0341\n",
      "Epoch 9/50\n",
      "16/16 [==============================] - 6s 360ms/step - loss: 3.7103 - acc: 0.0421 - val_loss: 3.8685 - val_acc: 0.0284\n",
      "Epoch 10/50\n",
      "16/16 [==============================] - 6s 360ms/step - loss: 3.6909 - acc: 0.0431 - val_loss: 3.9383 - val_acc: 0.0284\n",
      "Epoch 11/50\n",
      "16/16 [==============================] - 6s 365ms/step - loss: 3.6931 - acc: 0.0426 - val_loss: 3.9466 - val_acc: 0.0284\n",
      "Epoch 12/50\n",
      "16/16 [==============================] - 6s 350ms/step - loss: 3.6659 - acc: 0.0440 - val_loss: 3.9257 - val_acc: 0.0284\n",
      "Epoch 13/50\n",
      "16/16 [==============================] - 6s 367ms/step - loss: 3.6506 - acc: 0.0455 - val_loss: 3.8957 - val_acc: 0.0284\n",
      "Epoch 14/50\n",
      "16/16 [==============================] - 5s 341ms/step - loss: 3.6406 - acc: 0.0436 - val_loss: 3.9918 - val_acc: 0.0284\n",
      "Epoch 15/50\n",
      "16/16 [==============================] - 6s 369ms/step - loss: 3.6256 - acc: 0.0445 - val_loss: 3.9854 - val_acc: 0.0303\n",
      "Epoch 16/50\n",
      "16/16 [==============================] - 6s 344ms/step - loss: 3.6139 - acc: 0.0450 - val_loss: 4.0418 - val_acc: 0.0284\n",
      "Epoch 17/50\n",
      "16/16 [==============================] - 6s 357ms/step - loss: 3.6038 - acc: 0.0455 - val_loss: 4.0976 - val_acc: 0.0284\n",
      "Epoch 18/50\n",
      "16/16 [==============================] - 5s 339ms/step - loss: 3.5917 - acc: 0.0440 - val_loss: 4.1071 - val_acc: 0.0284\n",
      "Epoch 19/50\n",
      "16/16 [==============================] - 6s 352ms/step - loss: 3.5800 - acc: 0.0459 - val_loss: 4.1496 - val_acc: 0.0284\n",
      "Epoch 20/50\n",
      "16/16 [==============================] - 6s 357ms/step - loss: 3.5713 - acc: 0.0436 - val_loss: 4.1116 - val_acc: 0.0303\n",
      "Epoch 21/50\n",
      "16/16 [==============================] - 6s 346ms/step - loss: 3.7309 - acc: 0.0417 - val_loss: 4.1341 - val_acc: 0.0170\n",
      "Epoch 22/50\n",
      "16/16 [==============================] - 6s 362ms/step - loss: 3.5499 - acc: 0.0473 - val_loss: 4.1980 - val_acc: 0.0265\n",
      "Epoch 23/50\n",
      "16/16 [==============================] - 6s 375ms/step - loss: 3.5368 - acc: 0.0426 - val_loss: 4.1692 - val_acc: 0.0284\n",
      "Epoch 24/50\n",
      "16/16 [==============================] - 6s 356ms/step - loss: 3.5253 - acc: 0.0440 - val_loss: 4.2253 - val_acc: 0.0265\n",
      "Epoch 25/50\n",
      "16/16 [==============================] - 6s 349ms/step - loss: 3.5054 - acc: 0.0431 - val_loss: 4.2436 - val_acc: 0.0284\n",
      "Epoch 26/50\n",
      "16/16 [==============================] - 6s 355ms/step - loss: 3.4973 - acc: 0.0459 - val_loss: 4.2889 - val_acc: 0.0227\n",
      "Epoch 27/50\n",
      "16/16 [==============================] - 6s 372ms/step - loss: 3.4905 - acc: 0.0445 - val_loss: 4.3059 - val_acc: 0.0265\n",
      "Epoch 28/50\n",
      "16/16 [==============================] - 6s 362ms/step - loss: 3.4778 - acc: 0.0445 - val_loss: 4.3352 - val_acc: 0.0265\n",
      "Epoch 29/50\n",
      "16/16 [==============================] - 6s 357ms/step - loss: 3.4625 - acc: 0.0445 - val_loss: 4.4005 - val_acc: 0.0303\n",
      "Epoch 30/50\n",
      "16/16 [==============================] - 6s 347ms/step - loss: 3.4517 - acc: 0.0488 - val_loss: 4.3179 - val_acc: 0.0284\n",
      "Epoch 31/50\n",
      "16/16 [==============================] - 5s 344ms/step - loss: 3.4383 - acc: 0.0455 - val_loss: 4.4578 - val_acc: 0.0265\n",
      "Epoch 32/50\n",
      "16/16 [==============================] - 6s 354ms/step - loss: 3.4601 - acc: 0.0450 - val_loss: 4.4478 - val_acc: 0.0265\n",
      "Epoch 33/50\n",
      "16/16 [==============================] - 6s 354ms/step - loss: 3.4229 - acc: 0.0440 - val_loss: 4.4488 - val_acc: 0.0265\n",
      "Epoch 34/50\n",
      "16/16 [==============================] - 6s 357ms/step - loss: 3.4277 - acc: 0.0459 - val_loss: 4.5838 - val_acc: 0.0265\n",
      "Epoch 35/50\n",
      "16/16 [==============================] - 6s 364ms/step - loss: 3.4026 - acc: 0.0455 - val_loss: 4.5320 - val_acc: 0.0227\n",
      "Epoch 36/50\n",
      "16/16 [==============================] - 5s 337ms/step - loss: 3.4073 - acc: 0.0483 - val_loss: 4.5039 - val_acc: 0.0284\n",
      "Epoch 37/50\n",
      "16/16 [==============================] - 6s 356ms/step - loss: 3.3837 - acc: 0.0459 - val_loss: 4.5537 - val_acc: 0.0322\n",
      "Epoch 38/50\n",
      "16/16 [==============================] - 6s 350ms/step - loss: 3.3669 - acc: 0.0473 - val_loss: 4.6002 - val_acc: 0.0360\n",
      "Epoch 39/50\n",
      "16/16 [==============================] - 6s 359ms/step - loss: 3.3573 - acc: 0.0483 - val_loss: 4.4571 - val_acc: 0.0341\n",
      "Epoch 40/50\n",
      "16/16 [==============================] - 6s 359ms/step - loss: 3.3538 - acc: 0.0497 - val_loss: 4.6240 - val_acc: 0.0208\n",
      "Epoch 41/50\n",
      "16/16 [==============================] - 6s 368ms/step - loss: 3.4067 - acc: 0.0473 - val_loss: 4.6128 - val_acc: 0.0265\n",
      "Epoch 42/50\n",
      "16/16 [==============================] - 6s 378ms/step - loss: 3.3338 - acc: 0.0478 - val_loss: 4.7443 - val_acc: 0.0284\n",
      "Epoch 43/50\n",
      "16/16 [==============================] - 6s 356ms/step - loss: 3.3374 - acc: 0.0464 - val_loss: 4.7381 - val_acc: 0.0322\n",
      "Epoch 44/50\n",
      "16/16 [==============================] - 6s 357ms/step - loss: 3.3130 - acc: 0.0478 - val_loss: 4.7884 - val_acc: 0.0303\n",
      "Epoch 45/50\n",
      "16/16 [==============================] - 6s 367ms/step - loss: 3.3311 - acc: 0.0478 - val_loss: 4.7232 - val_acc: 0.0322\n",
      "Epoch 46/50\n",
      "16/16 [==============================] - 6s 356ms/step - loss: 3.2980 - acc: 0.0478 - val_loss: 4.6629 - val_acc: 0.0341\n",
      "Epoch 47/50\n",
      "16/16 [==============================] - 6s 373ms/step - loss: 3.2884 - acc: 0.0507 - val_loss: 4.6770 - val_acc: 0.0360\n",
      "Epoch 48/50\n",
      "16/16 [==============================] - 6s 396ms/step - loss: 3.2898 - acc: 0.0511 - val_loss: 4.8851 - val_acc: 0.0341\n",
      "Epoch 49/50\n",
      "16/16 [==============================] - 6s 361ms/step - loss: 3.2724 - acc: 0.0516 - val_loss: 4.8067 - val_acc: 0.0322\n",
      "Epoch 50/50\n",
      "16/16 [==============================] - 6s 368ms/step - loss: 3.2625 - acc: 0.0507 - val_loss: 4.8373 - val_acc: 0.0303\n",
      "--------------------------------------------------\n",
      "--------------------------------------------------\n",
      "  \n",
      "aishwarya srivastava \n",
      "email: aishwarya.srivastava095@gmail.com \n",
      "mobile: 09972788990 \n",
      "career objective: \n",
      "seeking a position to work in a challenging and mentally stimulating environment, so as to harness my \n",
      "potential in such a way to utilize the best of my skills, creativity and ability towards the success of your \n",
      "company and to the growth of the fast developing field. \n",
      "education: \n",
      "vellore institute of technology, vellore, tamil nadu, india \n",
      "bachelor of technology – information technology, july 2013 \n",
      "aggregate cgpa of 8.9 \n",
      ". \n",
      "professional experience: \n",
      "cisco systems, technical assistance centre, \n",
      "customer support engineer, security-aaa, bangalore (july 2013-present) \n",
      "\n",
      "                                                  \n",
      "**************************************************\n",
      "OUTPUT                                                  \n",
      " objective: objective: to a a a a a a in and and and and and and and and and and and and and and and and and and and and and and and and and and and and and and and and and of of of and and of to in in in in in in in in in in in in in and and and and and and and and and and and and and and and and and and and and and and and and and and and and and and and and and and and and and and and and and and and and and and and and and and and and and and and and and and and and and and and and and and and and and and\n",
      "Iteration: 25\n",
      "Train on 16 samples, validate on 4 samples\n",
      "Epoch 1/50\n",
      "16/16 [==============================] - 6s 372ms/step - loss: 3.2623 - acc: 0.0478 - val_loss: 5.0503 - val_acc: 0.0322\n",
      "Epoch 2/50\n"
     ]
    },
    {
     "name": "stdout",
     "output_type": "stream",
     "text": [
      "16/16 [==============================] - 6s 358ms/step - loss: 3.2666 - acc: 0.0507 - val_loss: 4.8302 - val_acc: 0.0303\n",
      "Epoch 3/50\n",
      "16/16 [==============================] - 6s 389ms/step - loss: 3.2350 - acc: 0.0492 - val_loss: 4.8896 - val_acc: 0.0379\n",
      "Epoch 4/50\n"
     ]
    }
   ],
   "source": [
    "\n",
    "iteration=0\n",
    "\"\"\"\n",
    "# load weights\n",
    "print('loading the weights')\n",
    "model=load_model('resume_level.h5')\n",
    "\n",
    "# estimate accuracy on whole dataset using loaded weights\n",
    "scores = model.evaluate([encoder_input_data, decoder_input_data], decoder_target_data,verbose=0)\n",
    "print(\"%s: %.2f%%\\n\\n\" % (model.metrics_names[1], scores[1]*100))\n",
    "print(\"Testing Samples\\n\"+\"-\"*50)\n",
    "for i in range(1):\n",
    "    index=np.random.randint(len(input_resumes))\n",
    "    encoded_input_sequence=encoder_input_data[index: index + 1]\n",
    "    output_sequence=decode_sequence(encoded_input_sequence)\n",
    "    print(\"-\"*50)\n",
    "    print(input_resumes[index])\n",
    "    print(\" \"*50)\n",
    "    print(\"*\"*50+\"\\nOUTPUT\"+\" \"*50)\n",
    "    print(output_sequence)\n",
    "    print(\"-\"*50+\"\\n\"+\" \"*50)\n",
    "\"\"\"\n",
    "iteration_file=\"/home/santhosh/resumes_folder/keras/extract_summary_and_objective/iteration_resume_level.txt\"\n",
    "try:\n",
    "    file=open(iteration_file,'r')\n",
    "    last_line=file.read().split('\\n')[-2]\n",
    "    print('file_data,',last_line)\n",
    "    iteration=int(last_line.split(':')[1])\n",
    "    #print(iteration)\n",
    "    file.close()\n",
    "    \n",
    "except:\n",
    "    print('no file exist')\n",
    "\n",
    "# checkpoint\n",
    "filepath=\"resume_level_checkpoints.hdf5\"\n",
    "checkpoint = ModelCheckpoint(filepath, monitor='val_acc', verbose=0, save_best_only=True, mode='max')\n",
    "callbacks_list = [checkpoint]\n",
    "\n",
    "while True:\n",
    "    print('Iteration:',iteration+1)\n",
    "    #training\n",
    "    model.fit([encoder_input_data, decoder_input_data], decoder_target_data,\n",
    "          batch_size=batch_size,\n",
    "          epochs=epochs,\n",
    "          validation_split=0.2,callbacks=callbacks_list)\n",
    "    #prepare sample_data to test 5 samples:\n",
    "    print(\"-\"*50)\n",
    "    for i in range(1):\n",
    "        index=np.random.randint(len(input_resumes))\n",
    "        encoded_input_sequence=encoder_input_data[index: index + 1]\n",
    "        output_sequence=decode_sequence(encoded_input_sequence)\n",
    "        print(\"-\"*50)\n",
    "        print(input_resumes[index])\n",
    "        print(\" \"*50)\n",
    "        print(\"*\"*50+\"\\nOUTPUT\"+\" \"*50)\n",
    "        print(output_sequence)\n",
    "        \n",
    "        \n",
    "    # Save model\n",
    "    file=open(iteration_file,'a')\n",
    "    file.write('iteration:'+str(iteration+1)+'\\n')\n",
    "    file.close()\n",
    "    iteration+=1\n",
    "    model.save('resume_level.h5')"
   ]
  },
  {
   "cell_type": "code",
   "execution_count": null,
   "metadata": {},
   "outputs": [],
   "source": []
  },
  {
   "cell_type": "code",
   "execution_count": null,
   "metadata": {},
   "outputs": [],
   "source": []
  }
 ],
 "metadata": {
  "kernelspec": {
   "display_name": "Python 3",
   "language": "python",
   "name": "python3"
  },
  "language_info": {
   "codemirror_mode": {
    "name": "ipython",
    "version": 3
   },
   "file_extension": ".py",
   "mimetype": "text/x-python",
   "name": "python",
   "nbconvert_exporter": "python",
   "pygments_lexer": "ipython3",
   "version": "3.5.5"
  }
 },
 "nbformat": 4,
 "nbformat_minor": 2
}
