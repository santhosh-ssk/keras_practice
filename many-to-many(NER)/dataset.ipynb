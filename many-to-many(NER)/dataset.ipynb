{
 "cells": [
  {
   "cell_type": "code",
   "execution_count": 16,
   "metadata": {},
   "outputs": [
    {
     "name": "stdout",
     "output_type": "stream",
     "text": [
      "[nltk_data] Downloading package treebank to\n",
      "[nltk_data]     /home/santhosh/nltk_data...\n",
      "[nltk_data]   Package treebank is already up-to-date!\n"
     ]
    }
   ],
   "source": [
    "import os\n",
    "import nltk\n",
    "nltk.download('treebank')\n",
    "data_dir=\"/home/santhosh/keras/many-to-many(NER)/data\"\n",
    "fedata=open(os.path.join(data_dir,\"treebank_sents.txt\"),\"w\")\n",
    "ffdata=open(os.path.join(data_dir,\"treebank_poss.txt\"),\"w\")\n",
    "sents=nltk.corpus.treebank.tagged_sents()\n",
    "for sent in sents:\n",
    "    words,poss = [],[]\n",
    "    for word,pos in sent:\n",
    "        if pos == \"-NONE-\":\n",
    "            continue\n",
    "        words.append(word)\n",
    "        poss.append(pos)\n",
    "    fedata.write(\"{:s}\\n\".format(\" \".join(words)))\n",
    "    ffdata.write(\"{:s}\\n\".format(\" \".join(poss)))\n",
    "fedata.close()\n",
    "ffdata.close()"
   ]
  },
  {
   "cell_type": "code",
   "execution_count": null,
   "metadata": {},
   "outputs": [],
   "source": []
  }
 ],
 "metadata": {
  "kernelspec": {
   "display_name": "Python 3",
   "language": "python",
   "name": "python3"
  },
  "language_info": {
   "codemirror_mode": {
    "name": "ipython",
    "version": 3
   },
   "file_extension": ".py",
   "mimetype": "text/x-python",
   "name": "python",
   "nbconvert_exporter": "python",
   "pygments_lexer": "ipython3",
   "version": "3.5.5"
  }
 },
 "nbformat": 4,
 "nbformat_minor": 2
}
